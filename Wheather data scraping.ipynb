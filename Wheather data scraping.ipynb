{
 "cells": [
  {
   "cell_type": "code",
   "execution_count": 5,
   "metadata": {},
   "outputs": [],
   "source": [
    "from selenium import webdriver\n",
    "import requests\n",
    "import urllib.request\n",
    "import time\n",
    "from bs4 import BeautifulSoup\n",
    "import pandas as pd\n",
    "import matplotlib.pyplot as plt"
   ]
  },
  {
   "cell_type": "code",
   "execution_count": 6,
   "metadata": {},
   "outputs": [],
   "source": [
    "def extractMonth(m, y):\n",
    "    url='https://www.timeanddate.com/weather/pakistan/karachi/historic?'\n",
    "    urlf=url+'month='+str(m)+'&year=' + str(y)\n",
    "    path = 'C:\\\\Users\\\\CS\\\\Documents\\\\EGDownloads\\\\chromedriver_win32\\\\chromedriver.exe'\n",
    "    driver = webdriver.Chrome(executable_path = path)\n",
    "    driver.get(urlf)\n",
    "    cont = driver.find_element_by_id('weatherContainer')\n",
    "    a=cont.get_attribute('innerHTML')\n",
    "\n",
    "    soup = BeautifulSoup(a, 'html.parser')\n",
    "\n",
    "    low = [d.text.split(\":\")[-1] for d in soup.find_all('div',class_= \"tempLow low\")]\n",
    "\n",
    "    high = [d.text.split(\":\")[-1] for d in soup.find_all('div',class_= \"temp low\")]\n",
    "\n",
    "    time = [d.text for d in soup.find_all('div',class_= \"time\")]\n",
    "    driver.quit()\n",
    "    res = []\n",
    "    for i, data in enumerate(zip(time, low, high)):\n",
    "        res.append((y, m, i//4 + 1, *data))\n",
    "    return res "
   ]
  },
  {
   "cell_type": "code",
   "execution_count": 7,
   "metadata": {},
   "outputs": [],
   "source": [
    "def extractYear(j):\n",
    "    months = []\n",
    "    for i in range(1,2):\n",
    "        months.append((extractMonth(i,j)))    \n",
    "    return months"
   ]
  },
  {
   "cell_type": "code",
   "execution_count": 8,
   "metadata": {},
   "outputs": [],
   "source": [
    "def extractAll():\n",
    "    years=[]\n",
    "    for j in range(2010,2011):\n",
    "        years.append(extractYear(j))\n",
    "    return years"
   ]
  },
  {
   "cell_type": "code",
   "execution_count": 9,
   "metadata": {},
   "outputs": [],
   "source": [
    "allYears = extractAll() "
   ]
  },
  {
   "cell_type": "code",
   "execution_count": null,
   "metadata": {},
   "outputs": [],
   "source": [
    "allYears"
   ]
  }
 ],
 "metadata": {
  "kernelspec": {
   "display_name": "Python 3",
   "language": "python",
   "name": "python3"
  },
  "language_info": {
   "codemirror_mode": {
    "name": "ipython",
    "version": 3
   },
   "file_extension": ".py",
   "mimetype": "text/x-python",
   "name": "python",
   "nbconvert_exporter": "python",
   "pygments_lexer": "ipython3",
   "version": "3.7.3"
  }
 },
 "nbformat": 4,
 "nbformat_minor": 2
}
